{
  "nbformat": 4,
  "nbformat_minor": 0,
  "metadata": {
    "colab": {
      "provenance": [],
      "mount_file_id": "1IS43YeXLTdWfzdq6TbuSEu2-gyTSKZxY",
      "authorship_tag": "ABX9TyM17aos8nh126z15ADUwr8a",
      "include_colab_link": true
    },
    "kernelspec": {
      "name": "python3",
      "display_name": "Python 3"
    },
    "language_info": {
      "name": "python"
    }
  },
  "cells": [
    {
      "cell_type": "markdown",
      "metadata": {
        "id": "view-in-github",
        "colab_type": "text"
      },
      "source": [
        "<a href=\"https://colab.research.google.com/github/ToluPaul/electricity_consumption/blob/main/Time_Series_Analysis_Electricity_consumption.ipynb\" target=\"_parent\"><img src=\"https://colab.research.google.com/assets/colab-badge.svg\" alt=\"Open In Colab\"/></a>"
      ]
    },
    {
      "cell_type": "code",
      "execution_count": null,
      "metadata": {
        "id": "S6FkPevS2Jq8",
        "colab": {
          "base_uri": "https://localhost:8080/"
        },
        "outputId": "1ffa6cd0-f04b-4bd4-e7a1-731e5d6e21ef"
      },
      "outputs": [
        {
          "output_type": "stream",
          "name": "stdout",
          "text": [
            "Requirement already satisfied: torchmetrics in /usr/local/lib/python3.10/dist-packages (1.4.0.post0)\n",
            "Requirement already satisfied: numpy>1.20.0 in /usr/local/lib/python3.10/dist-packages (from torchmetrics) (1.25.2)\n",
            "Requirement already satisfied: packaging>17.1 in /usr/local/lib/python3.10/dist-packages (from torchmetrics) (24.1)\n",
            "Requirement already satisfied: torch>=1.10.0 in /usr/local/lib/python3.10/dist-packages (from torchmetrics) (2.3.0+cu121)\n",
            "Requirement already satisfied: lightning-utilities>=0.8.0 in /usr/local/lib/python3.10/dist-packages (from torchmetrics) (0.11.3.post0)\n",
            "Requirement already satisfied: setuptools in /usr/local/lib/python3.10/dist-packages (from lightning-utilities>=0.8.0->torchmetrics) (67.7.2)\n",
            "Requirement already satisfied: typing-extensions in /usr/local/lib/python3.10/dist-packages (from lightning-utilities>=0.8.0->torchmetrics) (4.12.2)\n",
            "Requirement already satisfied: filelock in /usr/local/lib/python3.10/dist-packages (from torch>=1.10.0->torchmetrics) (3.15.4)\n",
            "Requirement already satisfied: sympy in /usr/local/lib/python3.10/dist-packages (from torch>=1.10.0->torchmetrics) (1.12.1)\n",
            "Requirement already satisfied: networkx in /usr/local/lib/python3.10/dist-packages (from torch>=1.10.0->torchmetrics) (3.3)\n",
            "Requirement already satisfied: jinja2 in /usr/local/lib/python3.10/dist-packages (from torch>=1.10.0->torchmetrics) (3.1.4)\n",
            "Requirement already satisfied: fsspec in /usr/local/lib/python3.10/dist-packages (from torch>=1.10.0->torchmetrics) (2023.6.0)\n",
            "Requirement already satisfied: nvidia-cuda-nvrtc-cu12==12.1.105 in /usr/local/lib/python3.10/dist-packages (from torch>=1.10.0->torchmetrics) (12.1.105)\n",
            "Requirement already satisfied: nvidia-cuda-runtime-cu12==12.1.105 in /usr/local/lib/python3.10/dist-packages (from torch>=1.10.0->torchmetrics) (12.1.105)\n",
            "Requirement already satisfied: nvidia-cuda-cupti-cu12==12.1.105 in /usr/local/lib/python3.10/dist-packages (from torch>=1.10.0->torchmetrics) (12.1.105)\n",
            "Requirement already satisfied: nvidia-cudnn-cu12==8.9.2.26 in /usr/local/lib/python3.10/dist-packages (from torch>=1.10.0->torchmetrics) (8.9.2.26)\n",
            "Requirement already satisfied: nvidia-cublas-cu12==12.1.3.1 in /usr/local/lib/python3.10/dist-packages (from torch>=1.10.0->torchmetrics) (12.1.3.1)\n",
            "Requirement already satisfied: nvidia-cufft-cu12==11.0.2.54 in /usr/local/lib/python3.10/dist-packages (from torch>=1.10.0->torchmetrics) (11.0.2.54)\n",
            "Requirement already satisfied: nvidia-curand-cu12==10.3.2.106 in /usr/local/lib/python3.10/dist-packages (from torch>=1.10.0->torchmetrics) (10.3.2.106)\n",
            "Requirement already satisfied: nvidia-cusolver-cu12==11.4.5.107 in /usr/local/lib/python3.10/dist-packages (from torch>=1.10.0->torchmetrics) (11.4.5.107)\n",
            "Requirement already satisfied: nvidia-cusparse-cu12==12.1.0.106 in /usr/local/lib/python3.10/dist-packages (from torch>=1.10.0->torchmetrics) (12.1.0.106)\n",
            "Requirement already satisfied: nvidia-nccl-cu12==2.20.5 in /usr/local/lib/python3.10/dist-packages (from torch>=1.10.0->torchmetrics) (2.20.5)\n",
            "Requirement already satisfied: nvidia-nvtx-cu12==12.1.105 in /usr/local/lib/python3.10/dist-packages (from torch>=1.10.0->torchmetrics) (12.1.105)\n",
            "Requirement already satisfied: triton==2.3.0 in /usr/local/lib/python3.10/dist-packages (from torch>=1.10.0->torchmetrics) (2.3.0)\n",
            "Requirement already satisfied: nvidia-nvjitlink-cu12 in /usr/local/lib/python3.10/dist-packages (from nvidia-cusolver-cu12==11.4.5.107->torch>=1.10.0->torchmetrics) (12.5.82)\n",
            "Requirement already satisfied: MarkupSafe>=2.0 in /usr/local/lib/python3.10/dist-packages (from jinja2->torch>=1.10.0->torchmetrics) (2.1.5)\n",
            "Requirement already satisfied: mpmath<1.4.0,>=1.1.0 in /usr/local/lib/python3.10/dist-packages (from sympy->torch>=1.10.0->torchmetrics) (1.3.0)\n"
          ]
        }
      ],
      "source": [
        "import numpy as np\n",
        "import matplotlib.pyplot as plt\n",
        "import pandas as pd\n",
        "import torch\n",
        "import torch.nn as nn\n",
        "from torch.utils.data import TensorDataset\n",
        "import torch.optim as optim\n",
        "from torch.utils.data import DataLoader\n",
        "!pip install torchmetrics\n",
        "from torchmetrics import MeanSquaredError\n",
        "import warnings\n",
        "warnings.filterwarnings('ignore')"
      ]
    },
    {
      "cell_type": "code",
      "source": [
        "#Create a function to preprocess the sequential data\n",
        "def create_sequence(df, seq_length):\n",
        "  xs, ys = [], []\n",
        "  #interate over data indices\n",
        "  for i in range(len(df) - seq_length):\n",
        "    #define inputs\n",
        "    '''this collects all datapoints for every length in the sequence'''\n",
        "    x = df.iloc[i:(i+seq_length), 1]\n",
        "    #define targets\n",
        "    '''this collects the last data point for the length in the sequence'''\n",
        "    y = df.iloc[i+seq_length, 1]\n",
        "    #append the values to the generated list\n",
        "    xs.append(x)\n",
        "    ys.append(y)\n",
        "  #return the numpy values of the generated list\n",
        "  return np.array(xs), np.array(ys)"
      ],
      "metadata": {
        "id": "cl4w0EVI4vD7"
      },
      "execution_count": null,
      "outputs": []
    },
    {
      "cell_type": "code",
      "source": [
        "#read the training set and display the length\n",
        "elec_cons = pd.read_csv('/content/drive/MyDrive/electricity_consump/electricity_train.csv')\n",
        "# display first five rows and the length\n",
        "display(elec_cons.head(), '' , len(elec_cons))\n"
      ],
      "metadata": {
        "colab": {
          "base_uri": "https://localhost:8080/",
          "height": 242
        },
        "id": "zvtWdvek66QV",
        "outputId": "b37c7c21-11d8-4394-8706-bd517084488e"
      },
      "execution_count": null,
      "outputs": [
        {
          "output_type": "display_data",
          "data": {
            "text/plain": [
              "             timestamp  consumption\n",
              "0  2011-01-01 00:15:00    -0.704319\n",
              "1  2011-01-01 00:30:00    -0.704319\n",
              "2  2011-01-01 00:45:00    -0.678983\n",
              "3  2011-01-01 01:00:00    -0.653647\n",
              "4  2011-01-01 01:15:00    -0.704319"
            ],
            "text/html": [
              "\n",
              "  <div id=\"df-b2084f7a-e82e-4b1b-9997-75ed7e7f37c0\" class=\"colab-df-container\">\n",
              "    <div>\n",
              "<style scoped>\n",
              "    .dataframe tbody tr th:only-of-type {\n",
              "        vertical-align: middle;\n",
              "    }\n",
              "\n",
              "    .dataframe tbody tr th {\n",
              "        vertical-align: top;\n",
              "    }\n",
              "\n",
              "    .dataframe thead th {\n",
              "        text-align: right;\n",
              "    }\n",
              "</style>\n",
              "<table border=\"1\" class=\"dataframe\">\n",
              "  <thead>\n",
              "    <tr style=\"text-align: right;\">\n",
              "      <th></th>\n",
              "      <th>timestamp</th>\n",
              "      <th>consumption</th>\n",
              "    </tr>\n",
              "  </thead>\n",
              "  <tbody>\n",
              "    <tr>\n",
              "      <th>0</th>\n",
              "      <td>2011-01-01 00:15:00</td>\n",
              "      <td>-0.704319</td>\n",
              "    </tr>\n",
              "    <tr>\n",
              "      <th>1</th>\n",
              "      <td>2011-01-01 00:30:00</td>\n",
              "      <td>-0.704319</td>\n",
              "    </tr>\n",
              "    <tr>\n",
              "      <th>2</th>\n",
              "      <td>2011-01-01 00:45:00</td>\n",
              "      <td>-0.678983</td>\n",
              "    </tr>\n",
              "    <tr>\n",
              "      <th>3</th>\n",
              "      <td>2011-01-01 01:00:00</td>\n",
              "      <td>-0.653647</td>\n",
              "    </tr>\n",
              "    <tr>\n",
              "      <th>4</th>\n",
              "      <td>2011-01-01 01:15:00</td>\n",
              "      <td>-0.704319</td>\n",
              "    </tr>\n",
              "  </tbody>\n",
              "</table>\n",
              "</div>\n",
              "    <div class=\"colab-df-buttons\">\n",
              "\n",
              "  <div class=\"colab-df-container\">\n",
              "    <button class=\"colab-df-convert\" onclick=\"convertToInteractive('df-b2084f7a-e82e-4b1b-9997-75ed7e7f37c0')\"\n",
              "            title=\"Convert this dataframe to an interactive table.\"\n",
              "            style=\"display:none;\">\n",
              "\n",
              "  <svg xmlns=\"http://www.w3.org/2000/svg\" height=\"24px\" viewBox=\"0 -960 960 960\">\n",
              "    <path d=\"M120-120v-720h720v720H120Zm60-500h600v-160H180v160Zm220 220h160v-160H400v160Zm0 220h160v-160H400v160ZM180-400h160v-160H180v160Zm440 0h160v-160H620v160ZM180-180h160v-160H180v160Zm440 0h160v-160H620v160Z\"/>\n",
              "  </svg>\n",
              "    </button>\n",
              "\n",
              "  <style>\n",
              "    .colab-df-container {\n",
              "      display:flex;\n",
              "      gap: 12px;\n",
              "    }\n",
              "\n",
              "    .colab-df-convert {\n",
              "      background-color: #E8F0FE;\n",
              "      border: none;\n",
              "      border-radius: 50%;\n",
              "      cursor: pointer;\n",
              "      display: none;\n",
              "      fill: #1967D2;\n",
              "      height: 32px;\n",
              "      padding: 0 0 0 0;\n",
              "      width: 32px;\n",
              "    }\n",
              "\n",
              "    .colab-df-convert:hover {\n",
              "      background-color: #E2EBFA;\n",
              "      box-shadow: 0px 1px 2px rgba(60, 64, 67, 0.3), 0px 1px 3px 1px rgba(60, 64, 67, 0.15);\n",
              "      fill: #174EA6;\n",
              "    }\n",
              "\n",
              "    .colab-df-buttons div {\n",
              "      margin-bottom: 4px;\n",
              "    }\n",
              "\n",
              "    [theme=dark] .colab-df-convert {\n",
              "      background-color: #3B4455;\n",
              "      fill: #D2E3FC;\n",
              "    }\n",
              "\n",
              "    [theme=dark] .colab-df-convert:hover {\n",
              "      background-color: #434B5C;\n",
              "      box-shadow: 0px 1px 3px 1px rgba(0, 0, 0, 0.15);\n",
              "      filter: drop-shadow(0px 1px 2px rgba(0, 0, 0, 0.3));\n",
              "      fill: #FFFFFF;\n",
              "    }\n",
              "  </style>\n",
              "\n",
              "    <script>\n",
              "      const buttonEl =\n",
              "        document.querySelector('#df-b2084f7a-e82e-4b1b-9997-75ed7e7f37c0 button.colab-df-convert');\n",
              "      buttonEl.style.display =\n",
              "        google.colab.kernel.accessAllowed ? 'block' : 'none';\n",
              "\n",
              "      async function convertToInteractive(key) {\n",
              "        const element = document.querySelector('#df-b2084f7a-e82e-4b1b-9997-75ed7e7f37c0');\n",
              "        const dataTable =\n",
              "          await google.colab.kernel.invokeFunction('convertToInteractive',\n",
              "                                                    [key], {});\n",
              "        if (!dataTable) return;\n",
              "\n",
              "        const docLinkHtml = 'Like what you see? Visit the ' +\n",
              "          '<a target=\"_blank\" href=https://colab.research.google.com/notebooks/data_table.ipynb>data table notebook</a>'\n",
              "          + ' to learn more about interactive tables.';\n",
              "        element.innerHTML = '';\n",
              "        dataTable['output_type'] = 'display_data';\n",
              "        await google.colab.output.renderOutput(dataTable, element);\n",
              "        const docLink = document.createElement('div');\n",
              "        docLink.innerHTML = docLinkHtml;\n",
              "        element.appendChild(docLink);\n",
              "      }\n",
              "    </script>\n",
              "  </div>\n",
              "\n",
              "\n",
              "<div id=\"df-af6f7343-ac84-4655-9f07-6b0f8bacfb9c\">\n",
              "  <button class=\"colab-df-quickchart\" onclick=\"quickchart('df-af6f7343-ac84-4655-9f07-6b0f8bacfb9c')\"\n",
              "            title=\"Suggest charts\"\n",
              "            style=\"display:none;\">\n",
              "\n",
              "<svg xmlns=\"http://www.w3.org/2000/svg\" height=\"24px\"viewBox=\"0 0 24 24\"\n",
              "     width=\"24px\">\n",
              "    <g>\n",
              "        <path d=\"M19 3H5c-1.1 0-2 .9-2 2v14c0 1.1.9 2 2 2h14c1.1 0 2-.9 2-2V5c0-1.1-.9-2-2-2zM9 17H7v-7h2v7zm4 0h-2V7h2v10zm4 0h-2v-4h2v4z\"/>\n",
              "    </g>\n",
              "</svg>\n",
              "  </button>\n",
              "\n",
              "<style>\n",
              "  .colab-df-quickchart {\n",
              "      --bg-color: #E8F0FE;\n",
              "      --fill-color: #1967D2;\n",
              "      --hover-bg-color: #E2EBFA;\n",
              "      --hover-fill-color: #174EA6;\n",
              "      --disabled-fill-color: #AAA;\n",
              "      --disabled-bg-color: #DDD;\n",
              "  }\n",
              "\n",
              "  [theme=dark] .colab-df-quickchart {\n",
              "      --bg-color: #3B4455;\n",
              "      --fill-color: #D2E3FC;\n",
              "      --hover-bg-color: #434B5C;\n",
              "      --hover-fill-color: #FFFFFF;\n",
              "      --disabled-bg-color: #3B4455;\n",
              "      --disabled-fill-color: #666;\n",
              "  }\n",
              "\n",
              "  .colab-df-quickchart {\n",
              "    background-color: var(--bg-color);\n",
              "    border: none;\n",
              "    border-radius: 50%;\n",
              "    cursor: pointer;\n",
              "    display: none;\n",
              "    fill: var(--fill-color);\n",
              "    height: 32px;\n",
              "    padding: 0;\n",
              "    width: 32px;\n",
              "  }\n",
              "\n",
              "  .colab-df-quickchart:hover {\n",
              "    background-color: var(--hover-bg-color);\n",
              "    box-shadow: 0 1px 2px rgba(60, 64, 67, 0.3), 0 1px 3px 1px rgba(60, 64, 67, 0.15);\n",
              "    fill: var(--button-hover-fill-color);\n",
              "  }\n",
              "\n",
              "  .colab-df-quickchart-complete:disabled,\n",
              "  .colab-df-quickchart-complete:disabled:hover {\n",
              "    background-color: var(--disabled-bg-color);\n",
              "    fill: var(--disabled-fill-color);\n",
              "    box-shadow: none;\n",
              "  }\n",
              "\n",
              "  .colab-df-spinner {\n",
              "    border: 2px solid var(--fill-color);\n",
              "    border-color: transparent;\n",
              "    border-bottom-color: var(--fill-color);\n",
              "    animation:\n",
              "      spin 1s steps(1) infinite;\n",
              "  }\n",
              "\n",
              "  @keyframes spin {\n",
              "    0% {\n",
              "      border-color: transparent;\n",
              "      border-bottom-color: var(--fill-color);\n",
              "      border-left-color: var(--fill-color);\n",
              "    }\n",
              "    20% {\n",
              "      border-color: transparent;\n",
              "      border-left-color: var(--fill-color);\n",
              "      border-top-color: var(--fill-color);\n",
              "    }\n",
              "    30% {\n",
              "      border-color: transparent;\n",
              "      border-left-color: var(--fill-color);\n",
              "      border-top-color: var(--fill-color);\n",
              "      border-right-color: var(--fill-color);\n",
              "    }\n",
              "    40% {\n",
              "      border-color: transparent;\n",
              "      border-right-color: var(--fill-color);\n",
              "      border-top-color: var(--fill-color);\n",
              "    }\n",
              "    60% {\n",
              "      border-color: transparent;\n",
              "      border-right-color: var(--fill-color);\n",
              "    }\n",
              "    80% {\n",
              "      border-color: transparent;\n",
              "      border-right-color: var(--fill-color);\n",
              "      border-bottom-color: var(--fill-color);\n",
              "    }\n",
              "    90% {\n",
              "      border-color: transparent;\n",
              "      border-bottom-color: var(--fill-color);\n",
              "    }\n",
              "  }\n",
              "</style>\n",
              "\n",
              "  <script>\n",
              "    async function quickchart(key) {\n",
              "      const quickchartButtonEl =\n",
              "        document.querySelector('#' + key + ' button');\n",
              "      quickchartButtonEl.disabled = true;  // To prevent multiple clicks.\n",
              "      quickchartButtonEl.classList.add('colab-df-spinner');\n",
              "      try {\n",
              "        const charts = await google.colab.kernel.invokeFunction(\n",
              "            'suggestCharts', [key], {});\n",
              "      } catch (error) {\n",
              "        console.error('Error during call to suggestCharts:', error);\n",
              "      }\n",
              "      quickchartButtonEl.classList.remove('colab-df-spinner');\n",
              "      quickchartButtonEl.classList.add('colab-df-quickchart-complete');\n",
              "    }\n",
              "    (() => {\n",
              "      let quickchartButtonEl =\n",
              "        document.querySelector('#df-af6f7343-ac84-4655-9f07-6b0f8bacfb9c button');\n",
              "      quickchartButtonEl.style.display =\n",
              "        google.colab.kernel.accessAllowed ? 'block' : 'none';\n",
              "    })();\n",
              "  </script>\n",
              "</div>\n",
              "\n",
              "    </div>\n",
              "  </div>\n"
            ],
            "application/vnd.google.colaboratory.intrinsic+json": {
              "type": "dataframe",
              "summary": "{\n  \"name\": \"display(elec_cons\",\n  \"rows\": 5,\n  \"fields\": [\n    {\n      \"column\": \"timestamp\",\n      \"properties\": {\n        \"dtype\": \"object\",\n        \"num_unique_values\": 5,\n        \"samples\": [\n          \"2011-01-01 00:30:00\",\n          \"2011-01-01 01:15:00\",\n          \"2011-01-01 00:45:00\"\n        ],\n        \"semantic_type\": \"\",\n        \"description\": \"\"\n      }\n    },\n    {\n      \"column\": \"consumption\",\n      \"properties\": {\n        \"dtype\": \"number\",\n        \"std\": 0.02266110387555357,\n        \"min\": -0.7043185184993116,\n        \"max\": -0.6536467497883897,\n        \"num_unique_values\": 3,\n        \"samples\": [\n          -0.7043185184993116,\n          -0.6789826341438515,\n          -0.6536467497883897\n        ],\n        \"semantic_type\": \"\",\n        \"description\": \"\"\n      }\n    }\n  ]\n}"
            }
          },
          "metadata": {}
        },
        {
          "output_type": "display_data",
          "data": {
            "text/plain": [
              "''"
            ],
            "application/vnd.google.colaboratory.intrinsic+json": {
              "type": "string"
            }
          },
          "metadata": {}
        },
        {
          "output_type": "display_data",
          "data": {
            "text/plain": [
              "105215"
            ]
          },
          "metadata": {}
        }
      ]
    },
    {
      "cell_type": "code",
      "source": [
        "#using create sequence create the input and output variables\n",
        "X_train, y_train = create_sequence(elec_cons, 24*4)\n",
        "print(X_train.shape, y_train.shape)\n",
        "xtrain1 = np.array(elec_cons['consumption'])\n",
        "print()"
      ],
      "metadata": {
        "colab": {
          "base_uri": "https://localhost:8080/"
        },
        "id": "4OudAj_Q7YzW",
        "outputId": "f20f2a8c-f9cf-47ed-fece-9a37fa8c9c62"
      },
      "execution_count": null,
      "outputs": [
        {
          "output_type": "stream",
          "name": "stdout",
          "text": [
            "(105119, 96) (105119,)\n",
            "\n"
          ]
        }
      ]
    },
    {
      "cell_type": "code",
      "source": [
        "#Create TensorDataset\n",
        "dataset_train = TensorDataset(\n",
        "    torch.from_numpy(X_train).float(),\n",
        "    torch.from_numpy(y_train).float()\n",
        ")\n",
        "#print the length of the dataset\n",
        "print(len(dataset_train))"
      ],
      "metadata": {
        "colab": {
          "base_uri": "https://localhost:8080/"
        },
        "id": "JqDSzlYW_Ull",
        "outputId": "14c13a22-08e2-40fd-89d3-e1fcc1a1d8a6"
      },
      "execution_count": null,
      "outputs": [
        {
          "output_type": "stream",
          "name": "stdout",
          "text": [
            "105119\n"
          ]
        }
      ]
    },
    {
      "cell_type": "code",
      "source": [
        "#take a look at the train features\n",
        "print(X_train)"
      ],
      "metadata": {
        "colab": {
          "base_uri": "https://localhost:8080/"
        },
        "id": "Tx7Aw0WEAfIj",
        "outputId": "a3e5a6c3-00b6-41a6-e49f-28d126685596"
      },
      "execution_count": null,
      "outputs": [
        {
          "output_type": "stream",
          "name": "stdout",
          "text": [
            "[[-0.70431852 -0.70431852 -0.67898263 ... -0.65364675 -0.72990776\n",
            "  -0.70431852]\n",
            " [-0.70431852 -0.67898263 -0.65364675 ... -0.72990776 -0.70431852\n",
            "  -0.70431852]\n",
            " [-0.67898263 -0.65364675 -0.70431852 ... -0.70431852 -0.70431852\n",
            "  -0.70431852]\n",
            " ...\n",
            " [ 0.79759271  0.82292859  0.84826447 ... -0.93259484 -0.93259484\n",
            "  -0.90725895]\n",
            " [ 0.82292859  0.84826447  0.77200346 ... -0.93259484 -0.90725895\n",
            "  -0.93259484]\n",
            " [ 0.84826447  0.77200346  0.72133169 ... -0.90725895 -0.93259484\n",
            "  -0.93259484]]\n"
          ]
        }
      ]
    },
    {
      "cell_type": "code",
      "source": [
        "#verify that the ouput of the sequence has been removed\n",
        "105215 - 96"
      ],
      "metadata": {
        "colab": {
          "base_uri": "https://localhost:8080/"
        },
        "id": "NwpYyHiPAmbG",
        "outputId": "8da5d246-3f56-4eba-a327-a152d8ffb51d"
      },
      "execution_count": null,
      "outputs": [
        {
          "output_type": "execute_result",
          "data": {
            "text/plain": [
              "105119"
            ]
          },
          "metadata": {},
          "execution_count": 7
        }
      ]
    },
    {
      "cell_type": "code",
      "source": [
        "#check for the last datapoint in the train features\n",
        "print(X_train[0][95])\n",
        "print(len(X_train[0]))\n",
        "'''Apparently the train features is a collection of consecutive inputs for the\n",
        "instantiated sequence length'''"
      ],
      "metadata": {
        "colab": {
          "base_uri": "https://localhost:8080/",
          "height": 70
        },
        "id": "w58l4uR5A4Sn",
        "outputId": "ad846f95-e44c-451a-8c8c-895c396cebb1"
      },
      "execution_count": null,
      "outputs": [
        {
          "output_type": "stream",
          "name": "stdout",
          "text": [
            "-0.7043185184993116\n",
            "96\n"
          ]
        },
        {
          "output_type": "execute_result",
          "data": {
            "text/plain": [
              "'Apparently the train features is a collection of consecutive inputs for the\\ninstantiated sequence length'"
            ],
            "application/vnd.google.colaboratory.intrinsic+json": {
              "type": "string"
            }
          },
          "metadata": {},
          "execution_count": 8
        }
      ]
    },
    {
      "cell_type": "code",
      "source": [
        "#find the length of the last series in the feature variable(x)\n",
        "print(len(X_train[-1]))"
      ],
      "metadata": {
        "colab": {
          "base_uri": "https://localhost:8080/"
        },
        "id": "yzF8cRNy59BL",
        "outputId": "b2927696-b499-40c1-8df4-01c53592dcea"
      },
      "execution_count": null,
      "outputs": [
        {
          "output_type": "stream",
          "name": "stdout",
          "text": [
            "96\n"
          ]
        }
      ]
    },
    {
      "cell_type": "code",
      "source": [
        "#check if the last point in the target features is the same as the input\n",
        "print(y_train[0])"
      ],
      "metadata": {
        "colab": {
          "base_uri": "https://localhost:8080/"
        },
        "id": "kRvDS8BFEE9i",
        "outputId": "cd477894-4d77-4ab2-bc09-3249bda24ad8"
      },
      "execution_count": null,
      "outputs": [
        {
          "output_type": "stream",
          "name": "stdout",
          "text": [
            "-0.7043185184993116\n"
          ]
        }
      ]
    },
    {
      "cell_type": "code",
      "source": [
        "#After discovering that the shape [32,96,1] would not be sufficient to take in the total input size of 105119\n",
        "#Following a gemini prompt, the next suitable inputsize less than the total is 101376,\n",
        "#To achieve this, we need the training set from [0:1056]\n",
        "#print(X_train[0:1056])\n",
        "xtrain1 = X_train[0:101376]\n",
        "ytrain1 = y_train[0:101376]\n",
        "\n",
        "#create a new dataset\n",
        "dataset_train1 = TensorDataset(\n",
        "    torch.from_numpy(xtrain1).float(),\n",
        "    torch.from_numpy(ytrain1).float()\n",
        ")\n",
        "\n",
        "#create a new dataloader\n",
        "dataloader_train1 = DataLoader(\n",
        "    dataset_train1, batch_size=32\n",
        ")"
      ],
      "metadata": {
        "id": "kMh_LkxUC7l_"
      },
      "execution_count": null,
      "outputs": []
    },
    {
      "cell_type": "code",
      "source": [
        "#check if the values in the new train dataset are the same with the old training set\n",
        "xtrain1[101375][95] == y_train[101376]"
      ],
      "metadata": {
        "colab": {
          "base_uri": "https://localhost:8080/"
        },
        "id": "uAfAkZ44Eq-D",
        "outputId": "130c1073-905c-4276-9495-e9485f6c3ecb"
      },
      "execution_count": null,
      "outputs": [
        {
          "output_type": "execute_result",
          "data": {
            "text/plain": [
              "True"
            ]
          },
          "metadata": {},
          "execution_count": 12
        }
      ]
    },
    {
      "cell_type": "code",
      "source": [
        "#check the length of the dataset\n",
        "print(ytrain1)"
      ],
      "metadata": {
        "colab": {
          "base_uri": "https://localhost:8080/"
        },
        "id": "qmTEib9CGfIx",
        "outputId": "0b59ad3f-c3eb-4dfc-8963-3393df4b92c6"
      },
      "execution_count": null,
      "outputs": [
        {
          "output_type": "stream",
          "name": "stdout",
          "text": [
            "[-0.70431852 -0.70431852 -0.65364675 ...  1.45860593  1.4076808\n",
            "  1.4076808 ]\n"
          ]
        }
      ]
    },
    {
      "cell_type": "code",
      "source": [
        "#create a dataloader\n",
        "dataloader_train = DataLoader(\n",
        "    dataset_train, batch_size=101)"
      ],
      "metadata": {
        "id": "T5uspf8Kfy3W"
      },
      "execution_count": null,
      "outputs": []
    },
    {
      "cell_type": "code",
      "source": [
        "#check the batch\n",
        "batch1 = next(iter(dataloader_train))\n",
        "print(len(batch1[0]))"
      ],
      "metadata": {
        "colab": {
          "base_uri": "https://localhost:8080/"
        },
        "id": "vpGUXJA8g9eY",
        "outputId": "215cd9e5-0546-4393-9052-fc9534799dc1"
      },
      "execution_count": null,
      "outputs": [
        {
          "output_type": "stream",
          "name": "stdout",
          "text": [
            "101\n"
          ]
        }
      ]
    },
    {
      "cell_type": "code",
      "source": [
        "#create a sequence-to-vector architecture using rnn\n",
        "class Net(nn.Module):\n",
        "  def __init__(self):\n",
        "    super().__init__()\n",
        "    self.rnn = nn.RNN(\n",
        "        input_size=1,\n",
        "        hidden_size=32,\n",
        "        num_layers=2,\n",
        "        batch_first=True\n",
        "    )\n",
        "    self.fc = nn.Linear(32,1)\n",
        "  def forward(self, x):\n",
        "  #instantiate the first hidden layes with zeros\n",
        "    h0 = torch.zeros(2, x.size(0), 32)\n",
        "    #pass the input and first hidden state into the RNN layer\n",
        "    out, _ = self.rnn(x, h0)\n",
        "    #select only the last output by indexing the middle dimension with -1 pass the result through the linear layer and return\n",
        "    out = self.fc(out[:, -1, :])\n",
        "    return out"
      ],
      "metadata": {
        "id": "1hT3a4HCFmA6"
      },
      "execution_count": null,
      "outputs": []
    },
    {
      "cell_type": "code",
      "source": [
        "#create a  sequence-to-vector architecture using LSTM(Long_Short Term Memory)\n",
        "class Net1(nn.Module):\n",
        "  def __init__(self):\n",
        "    super().__init__()\n",
        "    self.lstm = nn.LSTM(\n",
        "        #set the input size to the number of inputs for each sequence\n",
        "        input_size=1,\n",
        "        #arbitrarily set the hidden size and number of layers\n",
        "        hidden_size=32,\n",
        "        num_layers=2,\n",
        "        #since the batch_size is equal to the same dimension set as true(96 in this case)\n",
        "        batch_first=True\n",
        "    )\n",
        "    self.fc = nn.Linear(32,1)\n",
        "    #define the foward pass\n",
        "  def forward(self, x):\n",
        "    #initiate the hidden states (short and long term state[h&c]) with zero\n",
        "    h0 = torch.zeros(2, x.size(0), 32)\n",
        "    c0 = torch.zeros(2, x.size(0), 32)\n",
        "    #pass h and c as a tuple to the lstm layer\n",
        "    out, _ = self.lstm(x, (h0, c0))\n",
        "    #return the last output\n",
        "    out = self.fc(out[:, -1, :])\n",
        "    return out"
      ],
      "metadata": {
        "id": "IJs8JIpSULPP"
      },
      "execution_count": null,
      "outputs": []
    },
    {
      "cell_type": "code",
      "source": [
        "#create a sequence to vector architecture using GRU(Gated Recurrent Unit)\n",
        "class Net2(nn.Module):\n",
        "  def __init__(self):\n",
        "    super().__init__()\n",
        "    self.gru = nn.GRU(\n",
        "        input_size=1,\n",
        "        hidden_size=32,\n",
        "        num_layers=2,\n",
        "        batch_first=True\n",
        "    )\n",
        "    self.fc= nn.Linear(32,1)\n",
        "  #define the forward pass\n",
        "  def forward(self, x):\n",
        "    h0 = torch.zeros(2, x.size(0), 32)\n",
        "    out, _ = self.gru(x, h0)\n",
        "    out = self.fc(out[:, -1, :])\n",
        "    return out\n",
        "\n",
        "'''Plain RNN modules aren't usually used much these days because of their short term memory\n",
        "    GRU's are less complicated than LSTMs which implies less computation\n",
        "    Relative performance of GRU's and LSTM's varies by use case\n",
        "    Learn to try both and evaluate the result'''"
      ],
      "metadata": {
        "colab": {
          "base_uri": "https://localhost:8080/",
          "height": 52
        },
        "id": "06t4w2U4Nlgr",
        "outputId": "f108f45e-2a98-46ae-ea51-0326fef03f03"
      },
      "execution_count": null,
      "outputs": [
        {
          "output_type": "execute_result",
          "data": {
            "text/plain": [
              "\"Plain RNN modules aren't usually used much these days because of their short term memory\\n    GRU's are less complicated than LSTMs which implies less computation\\n    Relative performance of GRU's and LSTM's varies by use case\\n    Learn to try both and evaluate the result\""
            ],
            "application/vnd.google.colaboratory.intrinsic+json": {
              "type": "string"
            }
          },
          "metadata": {},
          "execution_count": 18
        }
      ]
    },
    {
      "cell_type": "code",
      "source": [
        "#Training RNNs\n",
        "net = Net()\n",
        "#set up the mse loss\n",
        "criterion = nn.MSELoss()\n",
        "optimizer = optim.Adam(\n",
        "    net.parameters(), lr = 0.0001\n",
        ")\n",
        "#Write the training loop\n",
        "for epoch in range(3):\n",
        "  for seqs, labels in dataloader_train1:\n",
        "    optimizer.zero_grad()\n",
        "    #Reshape model input\n",
        "    seqs = seqs.view(32, 96, 1)\n",
        "    #Get model output\n",
        "    outputs = net(seqs)\n",
        "    #Compute loss\n",
        "    loss = criterion(outputs, labels)\n",
        "    loss.backward()\n",
        "    optimizer.step()\n",
        "  print(f\"Epoch:{epoch +1}, loss:{loss.item()}\")"
      ],
      "metadata": {
        "id": "zQh-2_nXVbkS",
        "colab": {
          "base_uri": "https://localhost:8080/"
        },
        "outputId": "39754bf1-7cc7-45f0-a561-a12b5706dfea"
      },
      "execution_count": null,
      "outputs": [
        {
          "output_type": "stream",
          "name": "stdout",
          "text": [
            "Epoch:1, loss:0.8350523114204407\n",
            "Epoch:2, loss:0.8271373510360718\n",
            "Epoch:3, loss:0.8241744041442871\n"
          ]
        }
      ]
    },
    {
      "cell_type": "code",
      "source": [
        "#Training LSTMs\n",
        "net1 = Net1()\n",
        "#using the same criterion write the training loop\n",
        "for epoch in range(3):\n",
        "  for seqs, labels in dataloader_train1:\n",
        "    #Reshape model input\n",
        "    seqs = seqs.view(32,96,1)\n",
        "    #Get the model output\n",
        "    outputs = net1(seqs)\n",
        "    #compute the loss\n",
        "    loss = criterion(outputs, labels)\n",
        "    optimizer.zero_grad()\n",
        "    loss.backward()\n",
        "    optimizer.step()\n",
        "  print(f\"Epoch{epoch + 1}, loss:{loss.item()}\")"
      ],
      "metadata": {
        "colab": {
          "base_uri": "https://localhost:8080/"
        },
        "id": "tsNlLZl7-fYO",
        "outputId": "d55825ec-84e8-4542-e992-bac9ce17adc0"
      },
      "execution_count": null,
      "outputs": [
        {
          "output_type": "stream",
          "name": "stdout",
          "text": [
            "Epoch1, loss:3.206156015396118\n",
            "Epoch2, loss:3.206156015396118\n",
            "Epoch3, loss:3.206156015396118\n"
          ]
        }
      ]
    },
    {
      "cell_type": "code",
      "source": [
        "#Training GRUs\n",
        "net2 = Net2()\n",
        "for epoch in range(3):\n",
        "  for seqs, labels in dataloader_train1:\n",
        "    #step optimization\n",
        "    optimizer.step()\n",
        "    #Reshape model input\n",
        "    seqs = seqs.view(32,96,1)\n",
        "    #Get model output\n",
        "    output = net2(seqs)\n",
        "    #calculate the loss\n",
        "    loss = criterion(output, labels)\n",
        "    #instanstiate zero gradient\n",
        "    optimizer.zero_grad()\n",
        "    #backward propagation\n",
        "    loss.backward()\n",
        "  print(f\"Epoch:{epoch+1}, loss:{loss.item()}\")"
      ],
      "metadata": {
        "colab": {
          "base_uri": "https://localhost:8080/"
        },
        "id": "vr31oy4B_gMt",
        "outputId": "92a74ceb-f7da-4d3b-fff0-7c0363f2bdba"
      },
      "execution_count": null,
      "outputs": [
        {
          "output_type": "stream",
          "name": "stdout",
          "text": [
            "Epoch:1, loss:3.656557083129883\n",
            "Epoch:2, loss:3.656557083129883\n",
            "Epoch:3, loss:3.656557083129883\n"
          ]
        }
      ]
    },
    {
      "cell_type": "code",
      "source": [
        "105119 % 37\n"
      ],
      "metadata": {
        "colab": {
          "base_uri": "https://localhost:8080/"
        },
        "id": "LT5Ef2q-fJoI",
        "outputId": "f80d0394-dc60-40f0-b1b2-f6b001ec33fe"
      },
      "execution_count": null,
      "outputs": [
        {
          "output_type": "execute_result",
          "data": {
            "text/plain": [
              "2"
            ]
          },
          "metadata": {},
          "execution_count": 52
        }
      ]
    },
    {
      "cell_type": "code",
      "source": [
        "len(dataloader_train)"
      ],
      "metadata": {
        "colab": {
          "base_uri": "https://localhost:8080/"
        },
        "id": "5eOqAqeymsej",
        "outputId": "32146a69-5c87-4c38-d8b3-1b2b696cd964"
      },
      "execution_count": null,
      "outputs": [
        {
          "output_type": "execute_result",
          "data": {
            "text/plain": [
              "1041"
            ]
          },
          "metadata": {},
          "execution_count": 53
        }
      ]
    },
    {
      "cell_type": "code",
      "source": [
        "#A suggested chatgpt prompt for creating an rnn dataset\n",
        "'''class MyRnnDataset(torch.utils.data.Dataset):\n",
        "  def __init__(self, data_path, sequence_length):\n",
        "    # Load your data from the specified path\n",
        "    self.data = ...  # Load your data (text, time series, etc.)\n",
        "    self.sequence_length = sequence_length\n",
        "\n",
        "  def __len__(self):\n",
        "    # Return the total number of sequences in your data\n",
        "    return len(self.data) // self.sequence_length  # Assuming fixed sequence length\n",
        "\n",
        "  def __getitem__(self, idx):\n",
        "    # Get a single sequence of data at the given index\n",
        "    sequence = self.data[idx * self.sequence_length: (idx + 1) * self.sequence_length]\n",
        "    # Preprocess the sequence (e.g., convert to tensors, numerical representation)\n",
        "    processed_sequence = ...\n",
        "    return processed_sequence\n",
        "'''"
      ],
      "metadata": {
        "colab": {
          "base_uri": "https://localhost:8080/",
          "height": 104
        },
        "id": "1Jly6i8vwjKD",
        "outputId": "b57a4ff1-c058-4900-a4ea-c46e7e3578a6"
      },
      "execution_count": null,
      "outputs": [
        {
          "output_type": "execute_result",
          "data": {
            "text/plain": [
              "'class MyRnnDataset(torch.utils.data.Dataset):\\n  def __init__(self, data_path, sequence_length):\\n    # Load your data from the specified path\\n    self.data = ...  # Load your data (text, time series, etc.)\\n    self.sequence_length = sequence_length\\n\\n  def __len__(self):\\n    # Return the total number of sequences in your data\\n    return len(self.data) // self.sequence_length  # Assuming fixed sequence length\\n\\n  def __getitem__(self, idx):\\n    # Get a single sequence of data at the given index\\n    sequence = self.data[idx * self.sequence_length: (idx + 1) * self.sequence_length]\\n    # Preprocess the sequence (e.g., convert to tensors, numerical representation)\\n    processed_sequence = ... \\n    return processed_sequence\\n'"
            ],
            "application/vnd.google.colaboratory.intrinsic+json": {
              "type": "string"
            }
          },
          "metadata": {},
          "execution_count": 54
        }
      ]
    },
    {
      "cell_type": "code",
      "source": [
        "elec_test = pd.read_csv('/content/drive/MyDrive/electricity_consump/electricity_test.csv')\n",
        "elec_test.head()"
      ],
      "metadata": {
        "id": "CI06ZkFqJVwH",
        "colab": {
          "base_uri": "https://localhost:8080/",
          "height": 206
        },
        "outputId": "0bc918d9-8cf3-4ec5-bdbe-0bbbed9d7e5d"
      },
      "execution_count": null,
      "outputs": [
        {
          "output_type": "execute_result",
          "data": {
            "text/plain": [
              "             timestamp  consumption\n",
              "0  2014-01-01 00:00:00    -0.932595\n",
              "1  2014-01-01 00:15:00    -0.957931\n",
              "2  2014-01-01 00:30:00    -0.932595\n",
              "3  2014-01-01 00:45:00    -0.907259\n",
              "4  2014-01-01 01:00:00    -0.881923"
            ],
            "text/html": [
              "\n",
              "  <div id=\"df-d0e1fa47-695b-44b9-9648-f977188ad82d\" class=\"colab-df-container\">\n",
              "    <div>\n",
              "<style scoped>\n",
              "    .dataframe tbody tr th:only-of-type {\n",
              "        vertical-align: middle;\n",
              "    }\n",
              "\n",
              "    .dataframe tbody tr th {\n",
              "        vertical-align: top;\n",
              "    }\n",
              "\n",
              "    .dataframe thead th {\n",
              "        text-align: right;\n",
              "    }\n",
              "</style>\n",
              "<table border=\"1\" class=\"dataframe\">\n",
              "  <thead>\n",
              "    <tr style=\"text-align: right;\">\n",
              "      <th></th>\n",
              "      <th>timestamp</th>\n",
              "      <th>consumption</th>\n",
              "    </tr>\n",
              "  </thead>\n",
              "  <tbody>\n",
              "    <tr>\n",
              "      <th>0</th>\n",
              "      <td>2014-01-01 00:00:00</td>\n",
              "      <td>-0.932595</td>\n",
              "    </tr>\n",
              "    <tr>\n",
              "      <th>1</th>\n",
              "      <td>2014-01-01 00:15:00</td>\n",
              "      <td>-0.957931</td>\n",
              "    </tr>\n",
              "    <tr>\n",
              "      <th>2</th>\n",
              "      <td>2014-01-01 00:30:00</td>\n",
              "      <td>-0.932595</td>\n",
              "    </tr>\n",
              "    <tr>\n",
              "      <th>3</th>\n",
              "      <td>2014-01-01 00:45:00</td>\n",
              "      <td>-0.907259</td>\n",
              "    </tr>\n",
              "    <tr>\n",
              "      <th>4</th>\n",
              "      <td>2014-01-01 01:00:00</td>\n",
              "      <td>-0.881923</td>\n",
              "    </tr>\n",
              "  </tbody>\n",
              "</table>\n",
              "</div>\n",
              "    <div class=\"colab-df-buttons\">\n",
              "\n",
              "  <div class=\"colab-df-container\">\n",
              "    <button class=\"colab-df-convert\" onclick=\"convertToInteractive('df-d0e1fa47-695b-44b9-9648-f977188ad82d')\"\n",
              "            title=\"Convert this dataframe to an interactive table.\"\n",
              "            style=\"display:none;\">\n",
              "\n",
              "  <svg xmlns=\"http://www.w3.org/2000/svg\" height=\"24px\" viewBox=\"0 -960 960 960\">\n",
              "    <path d=\"M120-120v-720h720v720H120Zm60-500h600v-160H180v160Zm220 220h160v-160H400v160Zm0 220h160v-160H400v160ZM180-400h160v-160H180v160Zm440 0h160v-160H620v160ZM180-180h160v-160H180v160Zm440 0h160v-160H620v160Z\"/>\n",
              "  </svg>\n",
              "    </button>\n",
              "\n",
              "  <style>\n",
              "    .colab-df-container {\n",
              "      display:flex;\n",
              "      gap: 12px;\n",
              "    }\n",
              "\n",
              "    .colab-df-convert {\n",
              "      background-color: #E8F0FE;\n",
              "      border: none;\n",
              "      border-radius: 50%;\n",
              "      cursor: pointer;\n",
              "      display: none;\n",
              "      fill: #1967D2;\n",
              "      height: 32px;\n",
              "      padding: 0 0 0 0;\n",
              "      width: 32px;\n",
              "    }\n",
              "\n",
              "    .colab-df-convert:hover {\n",
              "      background-color: #E2EBFA;\n",
              "      box-shadow: 0px 1px 2px rgba(60, 64, 67, 0.3), 0px 1px 3px 1px rgba(60, 64, 67, 0.15);\n",
              "      fill: #174EA6;\n",
              "    }\n",
              "\n",
              "    .colab-df-buttons div {\n",
              "      margin-bottom: 4px;\n",
              "    }\n",
              "\n",
              "    [theme=dark] .colab-df-convert {\n",
              "      background-color: #3B4455;\n",
              "      fill: #D2E3FC;\n",
              "    }\n",
              "\n",
              "    [theme=dark] .colab-df-convert:hover {\n",
              "      background-color: #434B5C;\n",
              "      box-shadow: 0px 1px 3px 1px rgba(0, 0, 0, 0.15);\n",
              "      filter: drop-shadow(0px 1px 2px rgba(0, 0, 0, 0.3));\n",
              "      fill: #FFFFFF;\n",
              "    }\n",
              "  </style>\n",
              "\n",
              "    <script>\n",
              "      const buttonEl =\n",
              "        document.querySelector('#df-d0e1fa47-695b-44b9-9648-f977188ad82d button.colab-df-convert');\n",
              "      buttonEl.style.display =\n",
              "        google.colab.kernel.accessAllowed ? 'block' : 'none';\n",
              "\n",
              "      async function convertToInteractive(key) {\n",
              "        const element = document.querySelector('#df-d0e1fa47-695b-44b9-9648-f977188ad82d');\n",
              "        const dataTable =\n",
              "          await google.colab.kernel.invokeFunction('convertToInteractive',\n",
              "                                                    [key], {});\n",
              "        if (!dataTable) return;\n",
              "\n",
              "        const docLinkHtml = 'Like what you see? Visit the ' +\n",
              "          '<a target=\"_blank\" href=https://colab.research.google.com/notebooks/data_table.ipynb>data table notebook</a>'\n",
              "          + ' to learn more about interactive tables.';\n",
              "        element.innerHTML = '';\n",
              "        dataTable['output_type'] = 'display_data';\n",
              "        await google.colab.output.renderOutput(dataTable, element);\n",
              "        const docLink = document.createElement('div');\n",
              "        docLink.innerHTML = docLinkHtml;\n",
              "        element.appendChild(docLink);\n",
              "      }\n",
              "    </script>\n",
              "  </div>\n",
              "\n",
              "\n",
              "<div id=\"df-d16a7b20-e02a-4ffc-a4c0-e173e70d92b0\">\n",
              "  <button class=\"colab-df-quickchart\" onclick=\"quickchart('df-d16a7b20-e02a-4ffc-a4c0-e173e70d92b0')\"\n",
              "            title=\"Suggest charts\"\n",
              "            style=\"display:none;\">\n",
              "\n",
              "<svg xmlns=\"http://www.w3.org/2000/svg\" height=\"24px\"viewBox=\"0 0 24 24\"\n",
              "     width=\"24px\">\n",
              "    <g>\n",
              "        <path d=\"M19 3H5c-1.1 0-2 .9-2 2v14c0 1.1.9 2 2 2h14c1.1 0 2-.9 2-2V5c0-1.1-.9-2-2-2zM9 17H7v-7h2v7zm4 0h-2V7h2v10zm4 0h-2v-4h2v4z\"/>\n",
              "    </g>\n",
              "</svg>\n",
              "  </button>\n",
              "\n",
              "<style>\n",
              "  .colab-df-quickchart {\n",
              "      --bg-color: #E8F0FE;\n",
              "      --fill-color: #1967D2;\n",
              "      --hover-bg-color: #E2EBFA;\n",
              "      --hover-fill-color: #174EA6;\n",
              "      --disabled-fill-color: #AAA;\n",
              "      --disabled-bg-color: #DDD;\n",
              "  }\n",
              "\n",
              "  [theme=dark] .colab-df-quickchart {\n",
              "      --bg-color: #3B4455;\n",
              "      --fill-color: #D2E3FC;\n",
              "      --hover-bg-color: #434B5C;\n",
              "      --hover-fill-color: #FFFFFF;\n",
              "      --disabled-bg-color: #3B4455;\n",
              "      --disabled-fill-color: #666;\n",
              "  }\n",
              "\n",
              "  .colab-df-quickchart {\n",
              "    background-color: var(--bg-color);\n",
              "    border: none;\n",
              "    border-radius: 50%;\n",
              "    cursor: pointer;\n",
              "    display: none;\n",
              "    fill: var(--fill-color);\n",
              "    height: 32px;\n",
              "    padding: 0;\n",
              "    width: 32px;\n",
              "  }\n",
              "\n",
              "  .colab-df-quickchart:hover {\n",
              "    background-color: var(--hover-bg-color);\n",
              "    box-shadow: 0 1px 2px rgba(60, 64, 67, 0.3), 0 1px 3px 1px rgba(60, 64, 67, 0.15);\n",
              "    fill: var(--button-hover-fill-color);\n",
              "  }\n",
              "\n",
              "  .colab-df-quickchart-complete:disabled,\n",
              "  .colab-df-quickchart-complete:disabled:hover {\n",
              "    background-color: var(--disabled-bg-color);\n",
              "    fill: var(--disabled-fill-color);\n",
              "    box-shadow: none;\n",
              "  }\n",
              "\n",
              "  .colab-df-spinner {\n",
              "    border: 2px solid var(--fill-color);\n",
              "    border-color: transparent;\n",
              "    border-bottom-color: var(--fill-color);\n",
              "    animation:\n",
              "      spin 1s steps(1) infinite;\n",
              "  }\n",
              "\n",
              "  @keyframes spin {\n",
              "    0% {\n",
              "      border-color: transparent;\n",
              "      border-bottom-color: var(--fill-color);\n",
              "      border-left-color: var(--fill-color);\n",
              "    }\n",
              "    20% {\n",
              "      border-color: transparent;\n",
              "      border-left-color: var(--fill-color);\n",
              "      border-top-color: var(--fill-color);\n",
              "    }\n",
              "    30% {\n",
              "      border-color: transparent;\n",
              "      border-left-color: var(--fill-color);\n",
              "      border-top-color: var(--fill-color);\n",
              "      border-right-color: var(--fill-color);\n",
              "    }\n",
              "    40% {\n",
              "      border-color: transparent;\n",
              "      border-right-color: var(--fill-color);\n",
              "      border-top-color: var(--fill-color);\n",
              "    }\n",
              "    60% {\n",
              "      border-color: transparent;\n",
              "      border-right-color: var(--fill-color);\n",
              "    }\n",
              "    80% {\n",
              "      border-color: transparent;\n",
              "      border-right-color: var(--fill-color);\n",
              "      border-bottom-color: var(--fill-color);\n",
              "    }\n",
              "    90% {\n",
              "      border-color: transparent;\n",
              "      border-bottom-color: var(--fill-color);\n",
              "    }\n",
              "  }\n",
              "</style>\n",
              "\n",
              "  <script>\n",
              "    async function quickchart(key) {\n",
              "      const quickchartButtonEl =\n",
              "        document.querySelector('#' + key + ' button');\n",
              "      quickchartButtonEl.disabled = true;  // To prevent multiple clicks.\n",
              "      quickchartButtonEl.classList.add('colab-df-spinner');\n",
              "      try {\n",
              "        const charts = await google.colab.kernel.invokeFunction(\n",
              "            'suggestCharts', [key], {});\n",
              "      } catch (error) {\n",
              "        console.error('Error during call to suggestCharts:', error);\n",
              "      }\n",
              "      quickchartButtonEl.classList.remove('colab-df-spinner');\n",
              "      quickchartButtonEl.classList.add('colab-df-quickchart-complete');\n",
              "    }\n",
              "    (() => {\n",
              "      let quickchartButtonEl =\n",
              "        document.querySelector('#df-d16a7b20-e02a-4ffc-a4c0-e173e70d92b0 button');\n",
              "      quickchartButtonEl.style.display =\n",
              "        google.colab.kernel.accessAllowed ? 'block' : 'none';\n",
              "    })();\n",
              "  </script>\n",
              "</div>\n",
              "\n",
              "    </div>\n",
              "  </div>\n"
            ],
            "application/vnd.google.colaboratory.intrinsic+json": {
              "type": "dataframe",
              "variable_name": "elec_test",
              "summary": "{\n  \"name\": \"elec_test\",\n  \"rows\": 35040,\n  \"fields\": [\n    {\n      \"column\": \"timestamp\",\n      \"properties\": {\n        \"dtype\": \"object\",\n        \"num_unique_values\": 35040,\n        \"samples\": [\n          \"2014-04-29 07:00:00\",\n          \"2014-10-04 11:45:00\",\n          \"2014-01-26 11:15:00\"\n        ],\n        \"semantic_type\": \"\",\n        \"description\": \"\"\n      }\n    },\n    {\n      \"column\": \"consumption\",\n      \"properties\": {\n        \"dtype\": \"number\",\n        \"std\": 0.8052076795747726,\n        \"min\": -1.414483356982869,\n        \"max\": 2.6458454698232314,\n        \"num_unique_values\": 151,\n        \"samples\": [\n          -0.2986910099683893,\n          0.7720034628933646,\n          0.132525741761549\n        ],\n        \"semantic_type\": \"\",\n        \"description\": \"\"\n      }\n    }\n  ]\n}"
            }
          },
          "metadata": {},
          "execution_count": 28
        }
      ]
    },
    {
      "cell_type": "code",
      "source": [
        "X_test, y_test = create_sequence(elec_test, 24*4)\n",
        "print(X_test.shape, y_test.shape)"
      ],
      "metadata": {
        "colab": {
          "base_uri": "https://localhost:8080/"
        },
        "id": "ZIuT_qQsJ3jC",
        "outputId": "98a11c4e-3c85-421a-bf6f-be97d7331bee"
      },
      "execution_count": null,
      "outputs": [
        {
          "output_type": "stream",
          "name": "stdout",
          "text": [
            "(34944, 96) (34944,)\n"
          ]
        }
      ]
    },
    {
      "cell_type": "code",
      "source": [
        "#check if the input size is matches the shape of the data\n",
        "34944 % (32*96)"
      ],
      "metadata": {
        "colab": {
          "base_uri": "https://localhost:8080/"
        },
        "id": "nwP53mm6KdE8",
        "outputId": "c2f8c218-afb4-43bf-ca23-c127d2327b77"
      },
      "execution_count": null,
      "outputs": [
        {
          "output_type": "execute_result",
          "data": {
            "text/plain": [
              "1152"
            ]
          },
          "metadata": {},
          "execution_count": 30
        }
      ]
    },
    {
      "cell_type": "code",
      "source": [
        "#since it doesn't match the shape of the data, reduce the data to match the input size.\n",
        "if (34944-1152) % (32*96) == 0:\n",
        "  print(34944 - 1152)"
      ],
      "metadata": {
        "colab": {
          "base_uri": "https://localhost:8080/"
        },
        "id": "aNbtZwOIK0dp",
        "outputId": "760182c0-8e99-464a-95cd-454711301339"
      },
      "execution_count": null,
      "outputs": [
        {
          "output_type": "stream",
          "name": "stdout",
          "text": [
            "33792\n"
          ]
        }
      ]
    },
    {
      "cell_type": "code",
      "source": [
        "#from a gemini prompt the closest number for training is 32768\n",
        "xtest1 = X_test[0:32768]\n",
        "ytest1 = y_test[0:32768]\n",
        "\n",
        "#create a tensor dataset\n",
        "dataset_test = TensorDataset(\n",
        "    torch.from_numpy(xtest1).float(),\n",
        "    torch.from_numpy(ytest1).float()\n",
        ")\n",
        "\n",
        "#create a dataloader for test set\n",
        "dataloader_test = DataLoader(\n",
        "    dataset_test, batch_size=32, shuffle=False\n",
        ")"
      ],
      "metadata": {
        "id": "VSIBRmexMGzi"
      },
      "execution_count": null,
      "outputs": []
    },
    {
      "cell_type": "code",
      "source": [
        "#define the mse metrics\n",
        "mse = MeanSquaredError()\n",
        "\n",
        "net.eval()\n",
        "with torch.no_grad():\n",
        "  for seqs, labels in dataloader_test:\n",
        "    seqs = seqs.view(32, 96, 1)\n",
        "    #pass the sequence to net and squeeze the result\n",
        "    output = net(seqs).squeeze()\n",
        "    mse(output, labels)\n",
        "#compute final metric value\n",
        "test_mse = mse.compute()\n",
        "print(f\"Test MSE: {test_mse}\")\n"
      ],
      "metadata": {
        "colab": {
          "base_uri": "https://localhost:8080/"
        },
        "id": "hrFn2WXBDTCY",
        "outputId": "7a17d369-f412-48d6-f01c-b9d8e10fb983"
      },
      "execution_count": null,
      "outputs": [
        {
          "output_type": "stream",
          "name": "stdout",
          "text": [
            "Test MSE: 0.15471692383289337\n"
          ]
        }
      ]
    },
    {
      "cell_type": "code",
      "source": [
        "mse1  = MeanSquaredError()\n",
        "\n",
        "#test for the lstm\n",
        "net.eval()\n",
        "with torch.no_grad():\n",
        "  for seqs, labels1 in dataloader_test:\n",
        "    seqs = seqs.view(32, 96, 1)\n",
        "    output1 = net1(seqs).squeeze()\n",
        "    mse1(output1, labels1)\n",
        "test_mse1 = mse1.compute()\n",
        "print(f\"Test MSE: {test_mse1}\")"
      ],
      "metadata": {
        "colab": {
          "base_uri": "https://localhost:8080/"
        },
        "id": "XPi9QdhwIhB4",
        "outputId": "e06b5846-18b6-463c-ad7f-1ebc00d56e96"
      },
      "execution_count": null,
      "outputs": [
        {
          "output_type": "stream",
          "name": "stdout",
          "text": [
            "Test MSE: 0.6347039341926575\n"
          ]
        }
      ]
    },
    {
      "cell_type": "code",
      "source": [
        "mse2 = MeanSquaredError()\n",
        "\n",
        "#test for the gru\n",
        "net.eval()\n",
        "with torch.no_grad():\n",
        "  for seqs, labels2 in dataloader_test:\n",
        "    seqs = seqs.view(32, 96, 1)\n",
        "    output2 = net2(seqs).squeeze()\n",
        "    mse2(output2, labels2)\n",
        "test_mse2 = mse2.compute()\n",
        "print(f\"Test MSE: {test_mse2}\")"
      ],
      "metadata": {
        "colab": {
          "base_uri": "https://localhost:8080/"
        },
        "id": "FADoWxnKPAFr",
        "outputId": "6b95ba53-cbec-4b2d-d4c7-c194b860663d"
      },
      "execution_count": null,
      "outputs": [
        {
          "output_type": "stream",
          "name": "stdout",
          "text": [
            "Test MSE: 0.7061682939529419\n"
          ]
        }
      ]
    },
    {
      "cell_type": "code",
      "source": [],
      "metadata": {
        "id": "Is4oLTV6Ppcy"
      },
      "execution_count": null,
      "outputs": []
    }
  ]
}